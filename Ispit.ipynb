{
 "cells": [
  {
   "cell_type": "markdown",
   "id": "dried-wisdom",
   "metadata": {},
   "source": [
    "# Двонасочна врска помеѓу депресија и автоимуни нарушувања"
   ]
  },
  {
   "cell_type": "code",
   "execution_count": 15,
   "id": "flying-kingston",
   "metadata": {},
   "outputs": [
    {
     "data": {
      "text/html": [
       "<img src=\"plosone.png\" alt=\"Drawing\" style=\"width:220px; height:200px; float:left;\"/>\n"
      ],
      "text/plain": [
       "<IPython.core.display.HTML object>"
      ]
     },
     "metadata": {},
     "output_type": "display_data"
    }
   ],
   "source": [
    "%%html\n",
    "<img src=\"plosone.png\" alt=\"Drawing\" style=\"width:220px; height:200px; float:left;\"/>"
   ]
  },
  {
   "cell_type": "markdown",
   "id": "basic-compilation",
   "metadata": {},
   "source": [
    "Забележана е епидемиолошка врска помеѓу психијатриските и автоимуните нарушувања кај човекот. \n",
    "Ова преклопување е нејасно, особено кога станува збор за депресијата, една од најчестите психијатриски нарушувања.\n",
    "Во прилог на какви било клинички импликации, истражувањето на врската помеѓу депресијата и автоимуни нарушувања и идентификувањето на факторите што го водат, ќе ги информираат теориите дека етиологијата на депресија вклучува имунолошки процеси. Етиологијата и патофизиологијата на депресијата во моментов се слабо разбрани, а сегашните фармаколошки третмани немаат ефикасност за лесна до умерена депресија. Затоа е од големо клиничко значење за идентификување на механизмите одговорни за појава на депресија, и искористеност на овие информации во понатамошната работа и напредок, како што е репозиционирање на фармацевтски производи, и поголема свесност кај луѓето за спречување на појава на истите нарушувања."
   ]
  }
 ],
 "metadata": {
  "kernelspec": {
   "display_name": "Python 3",
   "language": "python",
   "name": "python3"
  },
  "language_info": {
   "codemirror_mode": {
    "name": "ipython",
    "version": 3
   },
   "file_extension": ".py",
   "mimetype": "text/x-python",
   "name": "python",
   "nbconvert_exporter": "python",
   "pygments_lexer": "ipython3",
   "version": "3.9.1"
  }
 },
 "nbformat": 4,
 "nbformat_minor": 5
}
